{
 "cells": [
  {
   "cell_type": "markdown",
   "metadata": {
    "colab_type": "text",
    "id": "1gBxcjRDEliK"
   },
   "source": [
    "# Les GNNs en pratique : accélération GPU via la bibliothèque PyTorch Geometric.\n",
    "\n",
    "Ce tutoriel vise à explorer l'implémentation de différents GNNs via la librairie PyTorch Geometric. D'autres outils comme TensorboardX sont introduits afin de faciliter l'analyse de l'apprentissage des modèles.  \n",
    "\n",
    "**Plan:**    \n",
    "\n",
    "0. Pré-requis: Paramétrer son environnement Miniconda et Jupyter Lab, voir: (Insérer lien du document d'aide) \n",
    "1. Rappels sur PyTorch\n",
    "2. Installation de PyTorch-Geometric\n",
    "3. Définir un modèle GNN\n",
    "4. Entrainer un modèle GNN\n",
    "5. Un peu d'analyse"
   ]
  },
  {
   "cell_type": "markdown",
   "metadata": {
    "colab_type": "text",
    "id": "BwdncyH6CEZ9"
   },
   "source": [
    "# 1. Rappels sur PyTorch"
   ]
  },
  {
   "cell_type": "markdown",
   "metadata": {
    "colab_type": "text",
    "id": "feCFN2K3Hcte"
   },
   "source": [
    "Bien que vous ayez déja manipulé PyTorch, nous allons rapidement revoir les bases de la mise en place de l'apprentissage d'un réseau de neurones. \n",
    "\n",
    "Premièrement, nous importons le nécessaire:"
   ]
  },
  {
   "cell_type": "code",
   "execution_count": 1,
   "metadata": {
    "colab": {},
    "colab_type": "code",
    "id": "YNtPXYKmCVow"
   },
   "outputs": [],
   "source": [
    "import torch\n",
    "import torch.nn as nn\n",
    "import torch.nn.functional as F\n",
    "import torchvision\n",
    "import torchvision.transforms as transforms\n",
    "import sklearn.metrics as metrics"
   ]
  },
  {
   "cell_type": "markdown",
   "metadata": {
    "colab_type": "text",
    "id": "Z7L1yNOAILmW"
   },
   "source": [
    "Comme souvent, nous allons utiliser le jeu de données MNIST afin de rapidement pouvoir expérimenter. Notons que Torchvision.datasets contient de très nombreux jeux de données. "
   ]
  },
  {
   "cell_type": "code",
   "execution_count": 2,
   "metadata": {
    "colab": {
     "base_uri": "https://localhost:8080/",
     "height": 1000
    },
    "colab_type": "code",
    "id": "3M3Ckk-xEvXm",
    "outputId": "64283c17-8c64-447c-d803-54df98292c23"
   },
   "outputs": [],
   "source": [
    "BATCH_SIZE = 32\n",
    "\n",
    "## transformations\n",
    "transform = transforms.Compose([transforms.ToTensor()])\n",
    "\n",
    "## Téléchargement et chargement de MNIST (Train)\n",
    "trainset = torchvision.datasets.MNIST(root='./data', train=True,\n",
    "                                        download=True, transform=transform)\n",
    "trainloader = torch.utils.data.DataLoader(trainset, batch_size=BATCH_SIZE,\n",
    "                                          shuffle=True, num_workers=2)\n",
    "\n",
    "## Téléchargement et chargement de MNIST (Test)\n",
    "testset = torchvision.datasets.MNIST(root='./data', train=False,\n",
    "                                       download=True, transform=transform)\n",
    "testloader = torch.utils.data.DataLoader(testset, batch_size=BATCH_SIZE,\n",
    "                                         shuffle=False, num_workers=2)"
   ]
  },
  {
   "cell_type": "code",
   "execution_count": 3,
   "metadata": {},
   "outputs": [
    {
     "name": "stdout",
     "output_type": "stream",
     "text": [
      "60000\n",
      "(tensor([[[0.0000, 0.0000, 0.0000, 0.0000, 0.0000, 0.0000, 0.0000, 0.0000,\n",
      "          0.0000, 0.0000, 0.0000, 0.0000, 0.0000, 0.0000, 0.0000, 0.0000,\n",
      "          0.0000, 0.0000, 0.0000, 0.0000, 0.0000, 0.0000, 0.0000, 0.0000,\n",
      "          0.0000, 0.0000, 0.0000, 0.0000],\n",
      "         [0.0000, 0.0000, 0.0000, 0.0000, 0.0000, 0.0000, 0.0000, 0.0000,\n",
      "          0.0000, 0.0000, 0.0000, 0.0000, 0.0000, 0.0000, 0.0000, 0.0000,\n",
      "          0.0000, 0.0000, 0.0000, 0.0000, 0.0000, 0.0000, 0.0000, 0.0000,\n",
      "          0.0000, 0.0000, 0.0000, 0.0000],\n",
      "         [0.0000, 0.0000, 0.0000, 0.0000, 0.0000, 0.0000, 0.0000, 0.0000,\n",
      "          0.0000, 0.0000, 0.0000, 0.0000, 0.0000, 0.0000, 0.0000, 0.0000,\n",
      "          0.0000, 0.0000, 0.0000, 0.0000, 0.0000, 0.0000, 0.0000, 0.0000,\n",
      "          0.0000, 0.0000, 0.0000, 0.0000],\n",
      "         [0.0000, 0.0000, 0.0000, 0.0000, 0.0000, 0.0000, 0.0000, 0.0000,\n",
      "          0.0000, 0.0000, 0.0000, 0.0000, 0.0000, 0.0000, 0.0000, 0.0000,\n",
      "          0.0000, 0.0000, 0.0000, 0.0000, 0.0000, 0.0000, 0.0000, 0.0000,\n",
      "          0.0000, 0.0000, 0.0000, 0.0000],\n",
      "         [0.0000, 0.0000, 0.0000, 0.0000, 0.0000, 0.0000, 0.0000, 0.0000,\n",
      "          0.0000, 0.0000, 0.0000, 0.1647, 0.4627, 0.8588, 0.6510, 0.4627,\n",
      "          0.4627, 0.0235, 0.0000, 0.0000, 0.0000, 0.0000, 0.0000, 0.0000,\n",
      "          0.0000, 0.0000, 0.0000, 0.0000],\n",
      "         [0.0000, 0.0000, 0.0000, 0.0000, 0.0000, 0.0000, 0.0000, 0.0000,\n",
      "          0.0000, 0.0000, 0.4039, 0.9490, 0.9961, 0.9961, 0.9961, 0.9961,\n",
      "          0.9961, 0.2588, 0.0000, 0.0000, 0.0000, 0.0000, 0.0000, 0.0000,\n",
      "          0.0000, 0.0000, 0.0000, 0.0000],\n",
      "         [0.0000, 0.0000, 0.0000, 0.0000, 0.0000, 0.0000, 0.0000, 0.0000,\n",
      "          0.0000, 0.0000, 0.0706, 0.9098, 0.9961, 0.9961, 0.9961, 0.9961,\n",
      "          0.9961, 0.9333, 0.2745, 0.0000, 0.0000, 0.0000, 0.0000, 0.0000,\n",
      "          0.0000, 0.0000, 0.0000, 0.0000],\n",
      "         [0.0000, 0.0000, 0.0000, 0.0000, 0.0000, 0.0000, 0.0000, 0.0000,\n",
      "          0.0000, 0.0000, 0.0000, 0.4078, 0.9569, 0.9961, 0.8784, 0.9961,\n",
      "          0.9961, 0.9961, 0.5529, 0.0000, 0.0000, 0.0000, 0.0000, 0.0000,\n",
      "          0.0000, 0.0000, 0.0000, 0.0000],\n",
      "         [0.0000, 0.0000, 0.0000, 0.0000, 0.0000, 0.0000, 0.0000, 0.0000,\n",
      "          0.0000, 0.0000, 0.0000, 0.0000, 0.8118, 0.9961, 0.8235, 0.9961,\n",
      "          0.9961, 0.9961, 0.1333, 0.0000, 0.0000, 0.0000, 0.0000, 0.0000,\n",
      "          0.0000, 0.0000, 0.0000, 0.0000],\n",
      "         [0.0000, 0.0000, 0.0000, 0.0000, 0.0000, 0.0000, 0.0000, 0.0000,\n",
      "          0.0000, 0.0000, 0.0000, 0.0000, 0.3294, 0.8078, 0.9961, 0.9961,\n",
      "          0.9961, 0.9961, 0.1608, 0.0000, 0.0000, 0.0000, 0.0000, 0.0000,\n",
      "          0.0000, 0.0000, 0.0000, 0.0000],\n",
      "         [0.0000, 0.0000, 0.0000, 0.0000, 0.0000, 0.0000, 0.0000, 0.0000,\n",
      "          0.0000, 0.0000, 0.0000, 0.0000, 0.0000, 0.0941, 0.8196, 0.9961,\n",
      "          0.9961, 0.9961, 0.6706, 0.0000, 0.0000, 0.0000, 0.0000, 0.0000,\n",
      "          0.0000, 0.0000, 0.0000, 0.0000],\n",
      "         [0.0000, 0.0000, 0.0000, 0.0000, 0.0000, 0.0000, 0.0000, 0.0000,\n",
      "          0.0000, 0.0000, 0.0000, 0.0000, 0.3569, 0.5373, 0.9922, 0.9961,\n",
      "          0.9961, 0.9961, 0.4392, 0.0000, 0.0000, 0.0000, 0.0000, 0.0000,\n",
      "          0.0000, 0.0000, 0.0000, 0.0000],\n",
      "         [0.0000, 0.0000, 0.0000, 0.0000, 0.0000, 0.0000, 0.0000, 0.0000,\n",
      "          0.0000, 0.0000, 0.1569, 0.8392, 0.9804, 0.9961, 0.9961, 0.9961,\n",
      "          0.9961, 0.9961, 0.1333, 0.0000, 0.0000, 0.0000, 0.0000, 0.0000,\n",
      "          0.0000, 0.0000, 0.0000, 0.0000],\n",
      "         [0.0000, 0.0000, 0.0000, 0.0000, 0.0000, 0.0000, 0.0000, 0.0000,\n",
      "          0.0000, 0.0000, 0.3176, 0.9686, 0.9961, 0.9961, 0.9961, 0.9961,\n",
      "          0.9961, 0.9961, 0.5725, 0.0000, 0.0000, 0.0000, 0.0000, 0.0000,\n",
      "          0.0000, 0.0000, 0.0000, 0.0000],\n",
      "         [0.0000, 0.0000, 0.0000, 0.0000, 0.0000, 0.0000, 0.0000, 0.0000,\n",
      "          0.0000, 0.0000, 0.0000, 0.4314, 0.9647, 0.9961, 0.9961, 0.9961,\n",
      "          0.9961, 0.9961, 0.6706, 0.0000, 0.0000, 0.0000, 0.0000, 0.0000,\n",
      "          0.0000, 0.0000, 0.0000, 0.0000],\n",
      "         [0.0000, 0.0000, 0.0000, 0.0000, 0.0000, 0.0000, 0.0000, 0.0000,\n",
      "          0.0000, 0.0000, 0.0000, 0.0000, 0.2863, 0.3490, 0.3490, 0.3647,\n",
      "          0.9412, 0.9961, 0.6706, 0.0000, 0.0000, 0.0000, 0.0000, 0.0000,\n",
      "          0.0000, 0.0000, 0.0000, 0.0000],\n",
      "         [0.0000, 0.0000, 0.0000, 0.0000, 0.0000, 0.0000, 0.0000, 0.0000,\n",
      "          0.0000, 0.0000, 0.0000, 0.0000, 0.0000, 0.0000, 0.0000, 0.0039,\n",
      "          0.5020, 0.9961, 0.8588, 0.1216, 0.0000, 0.0000, 0.0000, 0.0000,\n",
      "          0.0000, 0.0000, 0.0000, 0.0000],\n",
      "         [0.0000, 0.0000, 0.0000, 0.0000, 0.0000, 0.0000, 0.0000, 0.0000,\n",
      "          0.0000, 0.0000, 0.0000, 0.0000, 0.0000, 0.0000, 0.0000, 0.0275,\n",
      "          0.9961, 0.9961, 0.8392, 0.1098, 0.0000, 0.0000, 0.0000, 0.0000,\n",
      "          0.0000, 0.0000, 0.0000, 0.0000],\n",
      "         [0.0000, 0.0000, 0.0000, 0.0000, 0.0000, 0.0000, 0.0000, 0.0000,\n",
      "          0.0000, 0.0000, 0.0000, 0.0000, 0.0000, 0.0000, 0.0000, 0.5412,\n",
      "          0.9961, 0.9961, 0.4549, 0.0000, 0.0000, 0.0000, 0.0000, 0.0000,\n",
      "          0.0000, 0.0000, 0.0000, 0.0000],\n",
      "         [0.0000, 0.0000, 0.0000, 0.0000, 0.0000, 0.0000, 0.0745, 0.6941,\n",
      "          0.3529, 0.0000, 0.0000, 0.0000, 0.0000, 0.0000, 0.0980, 0.9412,\n",
      "          0.9961, 0.9961, 0.1333, 0.0000, 0.0000, 0.0000, 0.0000, 0.0000,\n",
      "          0.0000, 0.0000, 0.0000, 0.0000],\n",
      "         [0.0000, 0.0000, 0.0000, 0.0000, 0.0000, 0.0000, 0.6431, 0.9961,\n",
      "          0.8431, 0.2471, 0.1412, 0.0000, 0.2000, 0.3490, 0.8078, 0.9961,\n",
      "          0.9961, 0.5451, 0.0314, 0.0000, 0.0000, 0.0000, 0.0000, 0.0000,\n",
      "          0.0000, 0.0000, 0.0000, 0.0000],\n",
      "         [0.0000, 0.0000, 0.0000, 0.0000, 0.0000, 0.0000, 0.2235, 0.7725,\n",
      "          0.9961, 0.9961, 0.8706, 0.7059, 0.9451, 0.9961, 0.9961, 0.9922,\n",
      "          0.8353, 0.0431, 0.0000, 0.0000, 0.0000, 0.0000, 0.0000, 0.0000,\n",
      "          0.0000, 0.0000, 0.0000, 0.0000],\n",
      "         [0.0000, 0.0000, 0.0000, 0.0000, 0.0000, 0.0000, 0.0000, 0.5490,\n",
      "          0.4118, 0.9961, 0.9961, 0.9961, 0.9961, 0.9961, 0.9961, 0.9255,\n",
      "          0.0000, 0.0000, 0.0000, 0.0000, 0.0000, 0.0000, 0.0000, 0.0000,\n",
      "          0.0000, 0.0000, 0.0000, 0.0000],\n",
      "         [0.0000, 0.0000, 0.0000, 0.0000, 0.0000, 0.0000, 0.0000, 0.0000,\n",
      "          0.0275, 0.4588, 0.4588, 0.6471, 0.9961, 0.9961, 0.9373, 0.1961,\n",
      "          0.0000, 0.0000, 0.0000, 0.0000, 0.0000, 0.0000, 0.0000, 0.0000,\n",
      "          0.0000, 0.0000, 0.0000, 0.0000],\n",
      "         [0.0000, 0.0000, 0.0000, 0.0000, 0.0000, 0.0000, 0.0000, 0.0000,\n",
      "          0.0000, 0.0000, 0.0000, 0.0000, 0.0000, 0.0000, 0.0000, 0.0000,\n",
      "          0.0000, 0.0000, 0.0000, 0.0000, 0.0000, 0.0000, 0.0000, 0.0000,\n",
      "          0.0000, 0.0000, 0.0000, 0.0000],\n",
      "         [0.0000, 0.0000, 0.0000, 0.0000, 0.0000, 0.0000, 0.0000, 0.0000,\n",
      "          0.0000, 0.0000, 0.0000, 0.0000, 0.0000, 0.0000, 0.0000, 0.0000,\n",
      "          0.0000, 0.0000, 0.0000, 0.0000, 0.0000, 0.0000, 0.0000, 0.0000,\n",
      "          0.0000, 0.0000, 0.0000, 0.0000],\n",
      "         [0.0000, 0.0000, 0.0000, 0.0000, 0.0000, 0.0000, 0.0000, 0.0000,\n",
      "          0.0000, 0.0000, 0.0000, 0.0000, 0.0000, 0.0000, 0.0000, 0.0000,\n",
      "          0.0000, 0.0000, 0.0000, 0.0000, 0.0000, 0.0000, 0.0000, 0.0000,\n",
      "          0.0000, 0.0000, 0.0000, 0.0000],\n",
      "         [0.0000, 0.0000, 0.0000, 0.0000, 0.0000, 0.0000, 0.0000, 0.0000,\n",
      "          0.0000, 0.0000, 0.0000, 0.0000, 0.0000, 0.0000, 0.0000, 0.0000,\n",
      "          0.0000, 0.0000, 0.0000, 0.0000, 0.0000, 0.0000, 0.0000, 0.0000,\n",
      "          0.0000, 0.0000, 0.0000, 0.0000]]]), 3)\n"
     ]
    }
   ],
   "source": [
    "print(len(trainset))\n",
    "print(trainset[10])"
   ]
  },
  {
   "cell_type": "markdown",
   "metadata": {
    "colab_type": "text",
    "id": "u1jlPrOmIlIJ"
   },
   "source": [
    "Nous allons ici nous intéresser à la classification de chaque image parmis les 10 classes possibles (de 0 à 9). Pour ce faire, allons concevoir notre modèle neuronal profond en nous basant sur des couches convolutives et linéaires. N'hésitez pas à changer ce modèle. \n",
    "\n",
    "Pour rappel, l'héritage de `nn.Module` permet de bénéficier d'autograd. Ce mécanisme rends la rétro-propagation du gradient automatique. Nous devons donc implémenter certaines fonctions, comme `forward()`.\n"
   ]
  },
  {
   "cell_type": "code",
   "execution_count": 4,
   "metadata": {
    "colab": {},
    "colab_type": "code",
    "id": "Y8zge1JmEyAD"
   },
   "outputs": [],
   "source": [
    "class CNN(nn.Module):\n",
    "    def __init__(self):\n",
    "        super(CNN, self).__init__()\n",
    "\n",
    "        # 28x28x1 => 26x26x32\n",
    "        self.conv1 = nn.Conv2d(in_channels=1, out_channels=32, kernel_size=3)\n",
    "        self.d1 = nn.Linear(26 * 26 * 32, 128)\n",
    "        self.d2 = nn.Linear(128, 10)\n",
    "\n",
    "    def forward(self, x):\n",
    "        # 32x1x28x28 => 32x32x26x26\n",
    "        x = self.conv1(x)\n",
    "        x = F.relu(x)\n",
    "\n",
    "        # flatten => 32 x (32*26*26)\n",
    "        x = x.flatten(start_dim = 1)\n",
    "        #x = x.view(32, -1)\n",
    "\n",
    "        # 32 x (32*26*26) => 32x128\n",
    "        x = self.d1(x)\n",
    "        x = F.relu(x)\n",
    "\n",
    "        # logits => 32x10\n",
    "        logits = self.d2(x)\n",
    "        out = F.softmax(logits, dim=1)\n",
    "        return out"
   ]
  },
  {
   "cell_type": "markdown",
   "metadata": {},
   "source": [
    "L'appel à la fonction `.to(str)` permet *d'envoyer* (entendre copier) un élément (un modèle, des donnèes, des fonctions) vers une source de calcul. "
   ]
  },
  {
   "cell_type": "code",
   "execution_count": 5,
   "metadata": {
    "colab": {
     "base_uri": "https://localhost:8080/",
     "height": 87
    },
    "colab_type": "code",
    "id": "81sghL-oijxb",
    "outputId": "c989379c-5729-48ce-d964-4e5326a183eb"
   },
   "outputs": [
    {
     "name": "stdout",
     "output_type": "stream",
     "text": [
      "tensor([[1., 2.],\n",
      "        [3., 4.]], device='cuda:0', dtype=torch.float64)\n",
      "tensor([[3., 3.],\n",
      "        [7., 7.]], device='cuda:0', dtype=torch.float64)\n"
     ]
    }
   ],
   "source": [
    "import numpy as np\n",
    "a = np.array([[1,2],[3,4]])\n",
    "b = np.ones((2,2))\n",
    "\n",
    "ta = torch.tensor(a, dtype=float).to('cuda:0')\n",
    "tb = torch.ones(2,2, dtype=float).to('cuda:0')\n",
    "\n",
    "print(ta)\n",
    "print(ta @ tb)"
   ]
  },
  {
   "cell_type": "markdown",
   "metadata": {
    "colab_type": "text",
    "id": "3wbgpv4yU0MF"
   },
   "source": [
    "Ensuite, il nous reste à:\n",
    "1. Instancier le modèle\n",
    "2. Définir une fonction de coût\n",
    "3. Définir l'optimiseur"
   ]
  },
  {
   "cell_type": "code",
   "execution_count": 6,
   "metadata": {
    "colab": {},
    "colab_type": "code",
    "id": "JhN99DECU6Hr"
   },
   "outputs": [],
   "source": [
    "learning_rate = 0.001\n",
    "num_epochs = 5\n",
    "\n",
    "device = torch.device(\"cuda:0\" if torch.cuda.is_available() else \"cpu\")\n",
    "model = CNN()\n",
    "model = model.to(device)\n",
    "criterion = nn.CrossEntropyLoss()\n",
    "optimizer = torch.optim.Adam(model.parameters(), lr=learning_rate)"
   ]
  },
  {
   "cell_type": "markdown",
   "metadata": {
    "colab_type": "text",
    "id": "c6jDPUQiWEu4"
   },
   "source": [
    "Vient ensuite la boucle d'apprentissage pendant laquelle nous allons itérer sur tout le jeu de donnée. Pour chaque mini-batch, nous allons invoquer la descente de gradient et la mise à jour des poids. "
   ]
  },
  {
   "cell_type": "code",
   "execution_count": 7,
   "metadata": {
    "colab": {
     "base_uri": "https://localhost:8080/",
     "height": 347
    },
    "colab_type": "code",
    "id": "uGoOz_zjE2EH",
    "outputId": "968268b7-de5e-441e-b5c4-dce0d8effc8c"
   },
   "outputs": [
    {
     "name": "stdout",
     "output_type": "stream",
     "text": [
      "Itération: 0 | Loss: 1.6406 | Précision Train: 0.82\n",
      "Itération: 1 | Loss: 1.4969 | Précision Train: 0.97\n",
      "Itération: 2 | Loss: 1.4841 | Précision Train: 0.98\n",
      "Itération: 3 | Loss: 1.4783 | Précision Train: 0.99\n",
      "Itération: 4 | Loss: 1.4751 | Précision Train: 0.99\n"
     ]
    }
   ],
   "source": [
    "for epoch in range(num_epochs):\n",
    "    train_running_loss = 0.0\n",
    "    train_acc = 0.0\n",
    "\n",
    "    ## Apprentissage\n",
    "    for i, (images, labels) in enumerate(trainloader):\n",
    "        \n",
    "        images = images.to(device)\n",
    "        labels = labels.to(device)\n",
    "\n",
    "        ## propagation avant + rétropropagation + fonction de coût\n",
    "        logits = model(images)\n",
    "        loss = criterion(logits, labels)\n",
    "        optimizer.zero_grad()\n",
    "        loss.backward()\n",
    "\n",
    "        ## mise à jour !\n",
    "        optimizer.step()\n",
    "\n",
    "        ## On récupère la fonction de coup et la précision pour analyse\n",
    "        train_running_loss += loss.detach().item()\n",
    "        train_acc += (torch.argmax(logits, 1).flatten() == labels).type(torch.float).mean().item()\n",
    "    \n",
    "    print('Itération: %d | Loss: %.4f | Précision Train: %.2f' \\\n",
    "          %(epoch, train_running_loss / i, train_acc/i))"
   ]
  },
  {
   "cell_type": "markdown",
   "metadata": {
    "colab_type": "text",
    "id": "uvK4hr1OXLWu"
   },
   "source": [
    "Enfin, nous devons juste ré-utiliser le modèle entrainé afin de l'évaluer sur le corpus de test."
   ]
  },
  {
   "cell_type": "code",
   "execution_count": 8,
   "metadata": {
    "colab": {
     "base_uri": "https://localhost:8080/",
     "height": 35
    },
    "colab_type": "code",
    "id": "umfoz-KMW7Rs",
    "outputId": "3e4eaeb0-8d4c-4c40-99f3-2ad0cb659b83"
   },
   "outputs": [
    {
     "name": "stdout",
     "output_type": "stream",
     "text": [
      "Précision Test: 0.98\n"
     ]
    }
   ],
   "source": [
    "test_acc = 0.0\n",
    "for i, (images, labels) in enumerate(testloader, 0):\n",
    "    images = images.to(device)\n",
    "    labels = labels.to(device)\n",
    "    outputs = model(images)\n",
    "    test_acc += (torch.argmax(outputs, 1).flatten() == labels).type(torch.float).mean().item()\n",
    "    preds = torch.argmax(outputs, 1).flatten().cpu().numpy()\n",
    "        \n",
    "print('Précision Test: %.2f'%(test_acc/i))"
   ]
  },
  {
   "cell_type": "markdown",
   "metadata": {
    "colab_type": "text",
    "id": "OJ4OIG8r5EfI"
   },
   "source": [
    "# 2. Installation de PyTorch-Geometric"
   ]
  },
  {
   "cell_type": "markdown",
   "metadata": {
    "colab_type": "text",
    "id": "XyzIhe0O5ije"
   },
   "source": [
    "Ici, nous allons juste installer PyTorch-Geometric et TensorboardX dans notre environnement anaconda. "
   ]
  },
  {
   "cell_type": "code",
   "execution_count": 9,
   "metadata": {
    "colab": {
     "base_uri": "https://localhost:8080/",
     "height": 1000
    },
    "colab_type": "code",
    "id": "LwTG61Ibo4dG",
    "outputId": "cb451a07-1b32-4142-f06d-a031f8b8fedd"
   },
   "outputs": [
    {
     "name": "stdout",
     "output_type": "stream",
     "text": [
      "Looking in links: https://pytorch-geometric.com/whl/torch-1.6.0.html\n",
      "Collecting torch-scatter==latest+cu101\n",
      "  Downloading https://pytorch-geometric.com/whl/torch-1.6.0/torch_scatter-latest%2Bcu101-cp38-cp38-linux_x86_64.whl (11.5 MB)\n",
      "\u001b[K     |████████████████████████████████| 11.5 MB 15.3 MB/s eta 0:00:01\n",
      "\u001b[?25hInstalling collected packages: torch-scatter\n",
      "Successfully installed torch-scatter-2.0.5\n",
      "Looking in links: https://pytorch-geometric.com/whl/torch-1.6.0.html\n",
      "Collecting torch-sparse==latest+cu101\n",
      "  Downloading https://pytorch-geometric.com/whl/torch-1.6.0/torch_sparse-latest%2Bcu101-cp38-cp38-linux_x86_64.whl (22.9 MB)\n",
      "\u001b[K     |████████████████████████████████| 22.9 MB 76.9 MB/s eta 0:00:01\n",
      "\u001b[?25hRequirement already satisfied: scipy in /nfs-share/titouan/LOCAL_LIB/miniconda3/envs/gnn_tuto/lib/python3.8/site-packages (from torch-sparse==latest+cu101) (1.5.2)\n",
      "Requirement already satisfied: numpy>=1.14.5 in /nfs-share/titouan/LOCAL_LIB/miniconda3/envs/gnn_tuto/lib/python3.8/site-packages (from scipy->torch-sparse==latest+cu101) (1.19.1)\n",
      "Installing collected packages: torch-sparse\n",
      "  Attempting uninstall: torch-sparse\n",
      "    Found existing installation: torch-sparse 0.6.7\n",
      "    Uninstalling torch-sparse-0.6.7:\n",
      "      Successfully uninstalled torch-sparse-0.6.7\n",
      "Successfully installed torch-sparse-0.6.7\n",
      "Looking in links: https://pytorch-geometric.com/whl/torch-1.6.0.html\n",
      "Collecting torch-cluster==latest+cu101\n",
      "  Downloading https://pytorch-geometric.com/whl/torch-1.6.0/torch_cluster-latest%2Bcu101-cp38-cp38-linux_x86_64.whl (20.2 MB)\n",
      "\u001b[K     |████████████████████████████████| 20.2 MB 16.2 MB/s eta 0:00:01\n",
      "\u001b[?25hInstalling collected packages: torch-cluster\n",
      "Successfully installed torch-cluster-1.5.7\n",
      "Looking in links: https://pytorch-geometric.com/whl/torch-1.6.0.html\n",
      "Collecting torch-spline-conv==latest+cu101\n",
      "  Downloading https://pytorch-geometric.com/whl/torch-1.6.0/torch_spline_conv-latest%2Bcu101-cp38-cp38-linux_x86_64.whl (6.1 MB)\n",
      "\u001b[K     |████████████████████████████████| 6.1 MB 13.1 MB/s eta 0:00:01\n",
      "\u001b[?25hInstalling collected packages: torch-spline-conv\n",
      "Successfully installed torch-spline-conv-1.2.0\n",
      "Requirement already satisfied: torch-geometric in /nfs-share/titouan/LOCAL_LIB/miniconda3/envs/gnn_tuto/lib/python3.8/site-packages (1.6.1)\n",
      "Requirement already satisfied: numpy in /nfs-share/titouan/LOCAL_LIB/miniconda3/envs/gnn_tuto/lib/python3.8/site-packages (from torch-geometric) (1.19.1)\n",
      "Requirement already satisfied: numba in /nfs-share/titouan/LOCAL_LIB/miniconda3/envs/gnn_tuto/lib/python3.8/site-packages (from torch-geometric) (0.51.0)\n",
      "Requirement already satisfied: googledrivedownloader in /nfs-share/titouan/LOCAL_LIB/miniconda3/envs/gnn_tuto/lib/python3.8/site-packages (from torch-geometric) (0.4)\n",
      "Requirement already satisfied: jinja2 in /nfs-share/titouan/LOCAL_LIB/miniconda3/envs/gnn_tuto/lib/python3.8/site-packages (from torch-geometric) (2.11.2)\n",
      "Requirement already satisfied: h5py in /nfs-share/titouan/LOCAL_LIB/miniconda3/envs/gnn_tuto/lib/python3.8/site-packages (from torch-geometric) (2.10.0)\n",
      "Requirement already satisfied: requests in /nfs-share/titouan/LOCAL_LIB/miniconda3/envs/gnn_tuto/lib/python3.8/site-packages (from torch-geometric) (2.24.0)\n",
      "Requirement already satisfied: torch in /nfs-share/titouan/LOCAL_LIB/miniconda3/envs/gnn_tuto/lib/python3.8/site-packages (from torch-geometric) (1.6.0)\n",
      "Requirement already satisfied: scipy in /nfs-share/titouan/LOCAL_LIB/miniconda3/envs/gnn_tuto/lib/python3.8/site-packages (from torch-geometric) (1.5.2)\n",
      "Requirement already satisfied: rdflib in /nfs-share/titouan/LOCAL_LIB/miniconda3/envs/gnn_tuto/lib/python3.8/site-packages (from torch-geometric) (5.0.0)\n",
      "Requirement already satisfied: pandas in /nfs-share/titouan/LOCAL_LIB/miniconda3/envs/gnn_tuto/lib/python3.8/site-packages (from torch-geometric) (1.1.1)\n",
      "Requirement already satisfied: ase in /nfs-share/titouan/LOCAL_LIB/miniconda3/envs/gnn_tuto/lib/python3.8/site-packages (from torch-geometric) (3.20.1)\n",
      "Requirement already satisfied: tqdm in /nfs-share/titouan/LOCAL_LIB/miniconda3/envs/gnn_tuto/lib/python3.8/site-packages (from torch-geometric) (4.48.2)\n",
      "Requirement already satisfied: networkx in /nfs-share/titouan/LOCAL_LIB/miniconda3/envs/gnn_tuto/lib/python3.8/site-packages (from torch-geometric) (2.5)\n",
      "Requirement already satisfied: scikit-learn in /nfs-share/titouan/LOCAL_LIB/miniconda3/envs/gnn_tuto/lib/python3.8/site-packages (from torch-geometric) (0.23.2)\n",
      "Requirement already satisfied: llvmlite<0.35,>=0.34.0.dev0 in /nfs-share/titouan/LOCAL_LIB/miniconda3/envs/gnn_tuto/lib/python3.8/site-packages (from numba->torch-geometric) (0.34.0)\n",
      "Requirement already satisfied: setuptools in /nfs-share/titouan/LOCAL_LIB/miniconda3/envs/gnn_tuto/lib/python3.8/site-packages (from numba->torch-geometric) (49.6.0.post20200814)\n",
      "Requirement already satisfied: MarkupSafe>=0.23 in /nfs-share/titouan/LOCAL_LIB/miniconda3/envs/gnn_tuto/lib/python3.8/site-packages (from jinja2->torch-geometric) (1.1.1)\n",
      "Requirement already satisfied: six in /nfs-share/titouan/LOCAL_LIB/miniconda3/envs/gnn_tuto/lib/python3.8/site-packages (from h5py->torch-geometric) (1.15.0)\n",
      "Requirement already satisfied: chardet<4,>=3.0.2 in /nfs-share/titouan/LOCAL_LIB/miniconda3/envs/gnn_tuto/lib/python3.8/site-packages (from requests->torch-geometric) (3.0.4)\n",
      "Requirement already satisfied: idna<3,>=2.5 in /nfs-share/titouan/LOCAL_LIB/miniconda3/envs/gnn_tuto/lib/python3.8/site-packages (from requests->torch-geometric) (2.10)\n",
      "Requirement already satisfied: urllib3!=1.25.0,!=1.25.1,<1.26,>=1.21.1 in /nfs-share/titouan/LOCAL_LIB/miniconda3/envs/gnn_tuto/lib/python3.8/site-packages (from requests->torch-geometric) (1.25.10)\n",
      "Requirement already satisfied: certifi>=2017.4.17 in /nfs-share/titouan/LOCAL_LIB/miniconda3/envs/gnn_tuto/lib/python3.8/site-packages (from requests->torch-geometric) (2020.6.20)\n",
      "Requirement already satisfied: future in /nfs-share/titouan/LOCAL_LIB/miniconda3/envs/gnn_tuto/lib/python3.8/site-packages (from torch->torch-geometric) (0.18.2)\n",
      "Requirement already satisfied: isodate in /nfs-share/titouan/LOCAL_LIB/miniconda3/envs/gnn_tuto/lib/python3.8/site-packages (from rdflib->torch-geometric) (0.6.0)\n",
      "Requirement already satisfied: pyparsing in /nfs-share/titouan/LOCAL_LIB/miniconda3/envs/gnn_tuto/lib/python3.8/site-packages (from rdflib->torch-geometric) (2.4.7)\n",
      "Requirement already satisfied: pytz>=2017.2 in /nfs-share/titouan/LOCAL_LIB/miniconda3/envs/gnn_tuto/lib/python3.8/site-packages (from pandas->torch-geometric) (2020.1)\n",
      "Requirement already satisfied: python-dateutil>=2.7.3 in /nfs-share/titouan/LOCAL_LIB/miniconda3/envs/gnn_tuto/lib/python3.8/site-packages (from pandas->torch-geometric) (2.8.1)\n",
      "Requirement already satisfied: matplotlib>=2.0.0 in /nfs-share/titouan/LOCAL_LIB/miniconda3/envs/gnn_tuto/lib/python3.8/site-packages (from ase->torch-geometric) (3.3.1)\n",
      "Requirement already satisfied: decorator>=4.3.0 in /nfs-share/titouan/LOCAL_LIB/miniconda3/envs/gnn_tuto/lib/python3.8/site-packages (from networkx->torch-geometric) (4.4.2)\n",
      "Requirement already satisfied: threadpoolctl>=2.0.0 in /nfs-share/titouan/LOCAL_LIB/miniconda3/envs/gnn_tuto/lib/python3.8/site-packages (from scikit-learn->torch-geometric) (2.1.0)\n",
      "Requirement already satisfied: joblib>=0.11 in /nfs-share/titouan/LOCAL_LIB/miniconda3/envs/gnn_tuto/lib/python3.8/site-packages (from scikit-learn->torch-geometric) (0.16.0)\n",
      "Requirement already satisfied: pillow>=6.2.0 in /nfs-share/titouan/LOCAL_LIB/miniconda3/envs/gnn_tuto/lib/python3.8/site-packages (from matplotlib>=2.0.0->ase->torch-geometric) (7.2.0)\n",
      "Requirement already satisfied: cycler>=0.10 in /nfs-share/titouan/LOCAL_LIB/miniconda3/envs/gnn_tuto/lib/python3.8/site-packages (from matplotlib>=2.0.0->ase->torch-geometric) (0.10.0)\n",
      "Requirement already satisfied: kiwisolver>=1.0.1 in /nfs-share/titouan/LOCAL_LIB/miniconda3/envs/gnn_tuto/lib/python3.8/site-packages (from matplotlib>=2.0.0->ase->torch-geometric) (1.2.0)\n",
      "Collecting tensorboardX\n",
      "  Using cached tensorboardX-2.1-py2.py3-none-any.whl (308 kB)\n",
      "Requirement already satisfied: numpy in /nfs-share/titouan/LOCAL_LIB/miniconda3/envs/gnn_tuto/lib/python3.8/site-packages (from tensorboardX) (1.19.1)\n"
     ]
    },
    {
     "name": "stdout",
     "output_type": "stream",
     "text": [
      "Collecting protobuf>=3.8.0\n",
      "  Downloading protobuf-3.13.0-cp38-cp38-manylinux1_x86_64.whl (1.3 MB)\n",
      "\u001b[K     |████████████████████████████████| 1.3 MB 6.9 MB/s eta 0:00:01\n",
      "\u001b[?25hRequirement already satisfied: six in /nfs-share/titouan/LOCAL_LIB/miniconda3/envs/gnn_tuto/lib/python3.8/site-packages (from tensorboardX) (1.15.0)\n",
      "Requirement already satisfied: setuptools in /nfs-share/titouan/LOCAL_LIB/miniconda3/envs/gnn_tuto/lib/python3.8/site-packages (from protobuf>=3.8.0->tensorboardX) (49.6.0.post20200814)\n",
      "Installing collected packages: protobuf, tensorboardX\n",
      "Successfully installed protobuf-3.13.0 tensorboardX-2.1\n"
     ]
    }
   ],
   "source": [
    "!pip install torch-scatter==latest+cu101 -f https://pytorch-geometric.com/whl/torch-1.6.0.html\n",
    "!pip install torch-sparse==latest+cu101 -f https://pytorch-geometric.com/whl/torch-1.6.0.html\n",
    "!pip install torch-cluster==latest+cu101 -f https://pytorch-geometric.com/whl/torch-1.6.0.html\n",
    "!pip install torch-spline-conv==latest+cu101 -f https://pytorch-geometric.com/whl/torch-1.6.0.html\n",
    "!pip install torch-geometric"
   ]
  },
  {
   "cell_type": "code",
   "execution_count": 29,
   "metadata": {},
   "outputs": [
    {
     "name": "stdout",
     "output_type": "stream",
     "text": [
      "Collecting tensorboard\n",
      "  Downloading tensorboard-2.3.0-py3-none-any.whl (6.8 MB)\n",
      "\u001b[K     |████████████████████████████████| 6.8 MB 5.8 MB/s eta 0:00:01\n",
      "\u001b[?25hCollecting tensorboard-plugin-wit>=1.6.0\n",
      "  Downloading tensorboard_plugin_wit-1.7.0-py3-none-any.whl (779 kB)\n",
      "\u001b[K     |████████████████████████████████| 779 kB 24.8 MB/s eta 0:00:01\n",
      "\u001b[?25hCollecting google-auth<2,>=1.6.3\n",
      "  Downloading google_auth-1.20.1-py2.py3-none-any.whl (91 kB)\n",
      "\u001b[K     |████████████████████████████████| 91 kB 6.9 MB/s  eta 0:00:01\n",
      "\u001b[?25hCollecting grpcio>=1.24.3\n",
      "  Downloading grpcio-1.31.0-cp38-cp38-manylinux2014_x86_64.whl (3.4 MB)\n",
      "\u001b[K     |████████████████████████████████| 3.4 MB 18.7 MB/s eta 0:00:01\n",
      "\u001b[?25hRequirement already satisfied: setuptools>=41.0.0 in /nfs-share/titouan/LOCAL_LIB/miniconda3/envs/gnn_tuto/lib/python3.8/site-packages (from tensorboard) (49.6.0.post20200814)\n",
      "Requirement already satisfied: numpy>=1.12.0 in /nfs-share/titouan/LOCAL_LIB/miniconda3/envs/gnn_tuto/lib/python3.8/site-packages (from tensorboard) (1.19.1)\n",
      "Collecting werkzeug>=0.11.15\n",
      "  Using cached Werkzeug-1.0.1-py2.py3-none-any.whl (298 kB)\n",
      "Collecting absl-py>=0.4\n",
      "  Downloading absl_py-0.10.0-py3-none-any.whl (127 kB)\n",
      "\u001b[K     |████████████████████████████████| 127 kB 15.5 MB/s eta 0:00:01\n",
      "\u001b[?25hRequirement already satisfied: six>=1.10.0 in /nfs-share/titouan/LOCAL_LIB/miniconda3/envs/gnn_tuto/lib/python3.8/site-packages (from tensorboard) (1.15.0)\n",
      "Requirement already satisfied: requests<3,>=2.21.0 in /nfs-share/titouan/LOCAL_LIB/miniconda3/envs/gnn_tuto/lib/python3.8/site-packages (from tensorboard) (2.24.0)\n",
      "Collecting google-auth-oauthlib<0.5,>=0.4.1\n",
      "  Using cached google_auth_oauthlib-0.4.1-py2.py3-none-any.whl (18 kB)\n",
      "Requirement already satisfied: wheel>=0.26; python_version >= \"3\" in /nfs-share/titouan/LOCAL_LIB/miniconda3/envs/gnn_tuto/lib/python3.8/site-packages (from tensorboard) (0.35.1)\n",
      "Requirement already satisfied: protobuf>=3.6.0 in /nfs-share/titouan/LOCAL_LIB/miniconda3/envs/gnn_tuto/lib/python3.8/site-packages (from tensorboard) (3.13.0)\n",
      "Collecting markdown>=2.6.8\n",
      "  Using cached Markdown-3.2.2-py3-none-any.whl (88 kB)\n",
      "Collecting pyasn1-modules>=0.2.1\n",
      "  Using cached pyasn1_modules-0.2.8-py2.py3-none-any.whl (155 kB)\n",
      "Collecting cachetools<5.0,>=2.0.0\n",
      "  Downloading cachetools-4.1.1-py3-none-any.whl (10 kB)\n",
      "Collecting rsa<5,>=3.1.4; python_version >= \"3.5\"\n",
      "  Using cached rsa-4.6-py3-none-any.whl (47 kB)\n",
      "Requirement already satisfied: chardet<4,>=3.0.2 in /nfs-share/titouan/LOCAL_LIB/miniconda3/envs/gnn_tuto/lib/python3.8/site-packages (from requests<3,>=2.21.0->tensorboard) (3.0.4)\n",
      "Requirement already satisfied: urllib3!=1.25.0,!=1.25.1,<1.26,>=1.21.1 in /nfs-share/titouan/LOCAL_LIB/miniconda3/envs/gnn_tuto/lib/python3.8/site-packages (from requests<3,>=2.21.0->tensorboard) (1.25.10)\n",
      "Requirement already satisfied: idna<3,>=2.5 in /nfs-share/titouan/LOCAL_LIB/miniconda3/envs/gnn_tuto/lib/python3.8/site-packages (from requests<3,>=2.21.0->tensorboard) (2.10)\n",
      "Requirement already satisfied: certifi>=2017.4.17 in /nfs-share/titouan/LOCAL_LIB/miniconda3/envs/gnn_tuto/lib/python3.8/site-packages (from requests<3,>=2.21.0->tensorboard) (2020.6.20)\n",
      "Collecting requests-oauthlib>=0.7.0\n",
      "  Using cached requests_oauthlib-1.3.0-py2.py3-none-any.whl (23 kB)\n",
      "Collecting pyasn1<0.5.0,>=0.4.6\n",
      "  Using cached pyasn1-0.4.8-py2.py3-none-any.whl (77 kB)\n",
      "Collecting oauthlib>=3.0.0\n",
      "  Using cached oauthlib-3.1.0-py2.py3-none-any.whl (147 kB)\n",
      "Installing collected packages: tensorboard-plugin-wit, pyasn1, pyasn1-modules, cachetools, rsa, google-auth, grpcio, werkzeug, absl-py, oauthlib, requests-oauthlib, google-auth-oauthlib, markdown, tensorboard\n",
      "Successfully installed absl-py-0.10.0 cachetools-4.1.1 google-auth-1.20.1 google-auth-oauthlib-0.4.1 grpcio-1.31.0 markdown-3.2.2 oauthlib-3.1.0 pyasn1-0.4.8 pyasn1-modules-0.2.8 requests-oauthlib-1.3.0 rsa-4.6 tensorboard-2.3.0 tensorboard-plugin-wit-1.7.0 werkzeug-1.0.1\n"
     ]
    }
   ],
   "source": [
    "!pip install tensorboard"
   ]
  },
  {
   "cell_type": "markdown",
   "metadata": {
    "colab_type": "text",
    "id": "z550TutV5vhQ"
   },
   "source": [
    "Et nous testons en important tout ce qui est nécessaire:"
   ]
  },
  {
   "cell_type": "code",
   "execution_count": 3,
   "metadata": {
    "colab": {
     "base_uri": "https://localhost:8080/",
     "height": 395
    },
    "colab_type": "code",
    "id": "MlFlxfL5dgn2",
    "outputId": "a57ec863-efbe-400b-c3b4-5a64f0ece46c"
   },
   "outputs": [],
   "source": [
    "import torch\n",
    "import torch.nn as nn\n",
    "import torch.nn.functional as F\n",
    "\n",
    "import torch_geometric.nn as pyg_nn\n",
    "import torch_geometric.utils as pyg_utils\n",
    "\n",
    "import time\n",
    "from datetime import datetime\n",
    "\n",
    "import networkx as nx\n",
    "import numpy as np\n",
    "import torch\n",
    "import torch.optim as optim\n",
    "\n",
    "from torch_geometric.datasets import TUDataset\n",
    "from torch_geometric.datasets import Planetoid\n",
    "from torch_geometric.data import DataLoader\n",
    "\n",
    "import torch_geometric.transforms as T\n",
    "\n",
    "from torch.utils.tensorboard import SummaryWriter\n",
    "from sklearn.manifold import TSNE\n",
    "import matplotlib.pyplot as plt\n"
   ]
  },
  {
   "cell_type": "markdown",
   "metadata": {
    "colab_type": "text",
    "id": "aCgqxSiq6I4B"
   },
   "source": [
    "# 3. Définir un modèle GNN"
   ]
  },
  {
   "cell_type": "markdown",
   "metadata": {
    "colab_type": "text",
    "id": "2Nc20DEc6PO5"
   },
   "source": [
    "Appelons `GNN` notre modèle héritant de `nn.Module`. Nous allons également essayer de proposer plusieurs types de couches de GNNs. Pour ce faire, nous créons une fonction `build_conv_model` permettant de facilement changer ce paramètre tout en construisant le modèle. Ici, nous propose un GCNN pour une tâche de classification de noeuds et un GIN pour une tâche de classification de graphes. PyTorch-Geometric permet justement d'instancier très facilement ces couches (tout comme nn.Conv, nn.Linear, etc ..)."
   ]
  },
  {
   "cell_type": "code",
   "execution_count": 22,
   "metadata": {
    "colab": {},
    "colab_type": "code",
    "id": "ymy1pgN5oNQG"
   },
   "outputs": [],
   "source": [
    "class GNN(nn.Module):\n",
    "    def __init__(self, input_dim, hidden_dim, output_dim, task='node'):\n",
    "        super(GNN, self).__init__()\n",
    "        self.task = task\n",
    "        self.convs = nn.ModuleList()\n",
    "        self.convs.append(self.build_conv_model(input_dim, hidden_dim))\n",
    "        \n",
    "        # Notre profondeur est de 2 (i.e 2 sauts dans le voisinage)\n",
    "        for l in range(2):\n",
    "            self.convs.append(self.build_conv_model(hidden_dim, hidden_dim))\n",
    "\n",
    "        # Une fois ces sauts effectués et le message passé,\n",
    "        # nous appliquons quelques non-linéaritées. \n",
    "        self.post_mp = nn.Sequential(\n",
    "            nn.Linear(hidden_dim, hidden_dim), nn.Dropout(0.25), \n",
    "            nn.Linear(hidden_dim, output_dim))\n",
    "        if not (self.task == 'node' or self.task == 'graph'):\n",
    "            raise RuntimeError('Tâche inconnue :-(')\n",
    "\n",
    "        self.dropout = 0.25\n",
    "        self.num_layers = 3\n",
    "\n",
    "    def build_conv_model(self, input_dim, hidden_dim):\n",
    "        \n",
    "        # La documentation de PyTorch-Geometric vous proposera différents types de couches existantes.\n",
    "        if self.task == 'node':\n",
    "            return pyg_nn.GCNConv(input_dim, hidden_dim)\n",
    "        else:\n",
    "            return pyg_nn.GINConv(nn.Sequential(nn.Linear(input_dim, hidden_dim),\n",
    "                                  nn.ReLU(), nn.Linear(hidden_dim, hidden_dim)))\n",
    "\n",
    "    def forward(self, data):\n",
    "        x, edge_index, batch = data.x, data.edge_index, data.batch\n",
    "        if data.num_node_features == 0:\n",
    "            x = torch.ones(data.num_nodes, 1)\n",
    "\n",
    "        for i in range(self.num_layers):\n",
    "            x = self.convs[i](x, edge_index)\n",
    "            emb = x\n",
    "            x = F.relu(x)\n",
    "            x = F.dropout(x, p=self.dropout, training=self.training)\n",
    "\n",
    "        if self.task == 'graph':\n",
    "            x = pyg_nn.global_mean_pool(x, batch)\n",
    "\n",
    "        x = self.post_mp(x)\n",
    "\n",
    "        return emb, F.log_softmax(x, dim=1)\n",
    "\n",
    "    def loss(self, pred, label):\n",
    "        # Nous définissons ici directement la fonction de coût.\n",
    "        return F.nll_loss(pred, label)"
   ]
  },
  {
   "cell_type": "markdown",
   "metadata": {
    "colab_type": "text",
    "id": "8l8hy4NSvu7J"
   },
   "source": [
    "D'accord, mais si je souhaite développer ma propre couche de GNN ? C'est tout de même là tout l'intéret de la recherche !\n",
    "\n",
    "Et bien ici, `pyg_nn.GCNConv` et `pyg_nn.GINConv` sont des instances de `MessagePassing`. Ils définissent une seule et unique couche de convolution de graphes qui est décomposable par:\n",
    "\n",
    "* Calcul du message\n",
    "* Aggregation\n",
    "* Mise à jour\n",
    "* Pooling\n",
    "\n",
    "Ainsi, il est tout à fait possible de définir sa propre couche en héritant de `MessagePassing` (comme nous l'aurions fait avec `nn.Module`).\n",
    "\n",
    "Nous utiliserons donc des éléments pré-existants de `MessagePassing` pour nous faciliter la tâche:\n",
    "- `aggr='add'`: La méthode d'aggrégation (\"add\", \"mean\" ou \"max\").\n",
    "- `propagate()`: L'appel initial permettant de démarrer la propagation du message. Nécessite les indices des arcs.\n",
    "- `message()`: Construit le message au noeud i. Récupère les arguments de `propagate()`.\n",
    "- `update()`: Mise à jour des embeddings des noeuds. Le premier argument correspond à la sortie de l'aggregation et tous les arguments de `propagate()`. \n"
   ]
  },
  {
   "cell_type": "code",
   "execution_count": 23,
   "metadata": {
    "colab": {},
    "colab_type": "code",
    "id": "V_0yhAPgvttr"
   },
   "outputs": [],
   "source": [
    "class CustomConv(pyg_nn.MessagePassing):\n",
    "    def __init__(self, in_channels, out_channels):\n",
    "        super(CustomConv, self).__init__(aggr='add')  # \"Add\" aggregation.\n",
    "        self.lin = nn.Linear(in_channels, out_channels)\n",
    "        self.lin_self = nn.Linear(in_channels, out_channels)\n",
    "\n",
    "    def forward(self, x, edge_index):\n",
    "        # x: [N, in_channels]\n",
    "        # edge_index: [2, E]\n",
    "\n",
    "        # Ajouter une boucle à la matrice d'adjacence.\n",
    "        edge_index, _ = pyg_utils.remove_self_loops(edge_index)\n",
    "\n",
    "        # On transforme les données du noeud. \n",
    "        self_x = self.lin_self(x)\n",
    "        #x = self.lin(x)\n",
    "\n",
    "        return self_x + self.propagate(edge_index, size=(x.size(0), x.size(0)), x=self.lin(x))\n",
    "\n",
    "    def message(self, x_i, x_j, edge_index, size):\n",
    "        # Nous calculons les messages.\n",
    "        # x_j: [E, out_channels]\n",
    "\n",
    "        row, col = edge_index\n",
    "        deg = pyg_utils.degree(row, size[0], dtype=x_j.dtype)\n",
    "        deg_inv_sqrt = deg.pow(-0.5)\n",
    "        norm = deg_inv_sqrt[row] * deg_inv_sqrt[col]\n",
    "\n",
    "        return x_j\n",
    "\n",
    "    def update(self, aggr_out):\n",
    "        # aggr_out: [N, out_channels]\n",
    "        return aggr_out"
   ]
  },
  {
   "cell_type": "markdown",
   "metadata": {
    "colab_type": "text",
    "id": "bANNrQoh8xjF"
   },
   "source": [
    "# 4. Entrainer un modèle GNN"
   ]
  },
  {
   "cell_type": "markdown",
   "metadata": {},
   "source": [
    "**IMDB-BINARY**: Référence: *https://dl.acm.org/doi/pdf/10.1145/2783258.2783417*. IMDB-BINARY sera utilisé comme corpus pour une tâche de classification de graphes. Ici, des acteurs/actrices ainsi que le genre de plusieurs films ont été collectés sur le site IMDB. Pour chaque graphe, les noeuds représentent un acteur ou une actrice, et les arcs représentent leur apparition dans un même film. Pour chaque acteur / actrice, un ego-network est généré (comprendre, un graphe centré autour d'une seule personne). La tâche est ici de classifier chaque ego-network vers le genre correspondant (i.e. romance ou action dans le cas de IMBN-BINARY).\n",
    "\n",
    "**CORA**: Cora propose un graphe reliant les publications scientifiques entre elles. Chaque noeud est un document (sac-de-mots) et les arcs représentent les différentes citation. Chaque document appartient à un thème. La tâche est de prédire ce thème."
   ]
  },
  {
   "cell_type": "markdown",
   "metadata": {
    "colab_type": "text",
    "id": "yBwQxvFY83TG"
   },
   "source": [
    "La boucle d'apprentissage de notre GNN est très similaire à celle de MNIST. La seule différence concerne le fait de proposer deux tâches (classification de noeuds ou de graphes). \n",
    "\n",
    "**Pour la classification de noeuds:** nous devons définir un sous-ensemble de noeuds sur lesquels entrainer notre modèle. Dans les faits, nous disposons d'un ensemble de graphes dont chaque noeud est correment annoté. De ce fait, nous devons en masquer certains afin de permettre l'évaluation de notre modèle (**nous n'avons pas le droit d'apprendre sur le test !!!**).    \n",
    "\n",
    "**Pour la classification de graphes:** il nous suffit de partitioner le corpus. Nous utiliserons 80% des graphes pour l'apprentissage et 20% pour l'évaluation."
   ]
  },
  {
   "cell_type": "code",
   "execution_count": 44,
   "metadata": {
    "colab": {},
    "colab_type": "code",
    "id": "u5nqB3HHoHc7"
   },
   "outputs": [],
   "source": [
    "def train(dataset, task, writer):\n",
    "    if task == 'graph':\n",
    "        data_size = len(dataset)\n",
    "        loader = DataLoader(dataset[:int(data_size * 0.8)], batch_size=64, shuffle=True)\n",
    "        test_loader = DataLoader(dataset[int(data_size * 0.8):], batch_size=64, shuffle=True)\n",
    "    else:\n",
    "        test_loader = loader = DataLoader(dataset, batch_size=64, shuffle=True)\n",
    "\n",
    "    # Construction du modèle.\n",
    "    model = GNN(max(dataset.num_node_features, 1), 32, dataset.num_classes, task=task)\n",
    "    opt = optim.Adam(model.parameters(), lr=0.001)\n",
    "    \n",
    "    # Apprentissage\n",
    "    for epoch in range(200):\n",
    "        total_loss = 0\n",
    "        model.train()\n",
    "        for batch in loader:\n",
    "            \n",
    "            opt.zero_grad()\n",
    "            embedding, pred = model(batch)\n",
    "            label = batch.y\n",
    "            if task == 'node':\n",
    "                # En cas de classification de noeuds, nous en masquons certains.\n",
    "                pred = pred[batch.train_mask]\n",
    "                label = label[batch.train_mask]\n",
    "            loss = model.loss(pred, label)\n",
    "            loss.backward()\n",
    "            opt.step()\n",
    "            total_loss += loss.item() * batch.num_graphs\n",
    "        total_loss /= len(loader.dataset)\n",
    "        writer.add_scalar(\"loss\", total_loss, epoch)\n",
    "\n",
    "        if epoch % 10 == 0:\n",
    "            test_acc = test(test_loader, model)\n",
    "            print(\"Itération {}. Loss: {:.4f}. Précision test: {:.4f}\".format(\n",
    "                epoch, total_loss, test_acc))\n",
    "            writer.add_scalar(\"Précision test\", test_acc, epoch)\n",
    "\n",
    "    return model\n"
   ]
  },
  {
   "cell_type": "markdown",
   "metadata": {
    "colab_type": "text",
    "id": "rC8IPZSOXraQ"
   },
   "source": [
    "Dans le cas de CiteSeer/Cora. La tâche de classification des noeuds porte sur un seul et unique graphe. Il est donc primordial de masquer convenablement ces derniers afin de faire une distinction entre validation et test. "
   ]
  },
  {
   "cell_type": "code",
   "execution_count": 45,
   "metadata": {
    "colab": {},
    "colab_type": "code",
    "id": "KvUBHtZaXo2h"
   },
   "outputs": [],
   "source": [
    "def test(loader, model, is_validation=False):\n",
    "    model.eval()\n",
    "\n",
    "    correct = 0\n",
    "    for data in loader:\n",
    "        with torch.no_grad():\n",
    "            emb, pred = model(data)\n",
    "            pred = pred.argmax(dim=1)\n",
    "            label = data.y\n",
    "\n",
    "        if model.task == 'node':\n",
    "            mask = data.val_mask if is_validation else data.test_mask\n",
    "            # En cas de classification de noeuds, nous ne considérons que ceux masqués !\n",
    "            pred = pred[mask]\n",
    "            label = data.y[mask]\n",
    "            \n",
    "        correct += pred.eq(label).sum().item()\n",
    "    \n",
    "    if model.task == 'graph':\n",
    "        total = len(loader.dataset) \n",
    "    else:\n",
    "        total = 0\n",
    "        for data in loader.dataset:\n",
    "            total += torch.sum(data.test_mask).item()\n",
    "    return correct / total"
   ]
  },
  {
   "cell_type": "markdown",
   "metadata": {
    "colab_type": "text",
    "id": "YUo2Ve8c9wGp"
   },
   "source": [
    "## Classification de graphes"
   ]
  },
  {
   "cell_type": "markdown",
   "metadata": {
    "colab_type": "text",
    "id": "frumUA-l9zua"
   },
   "source": [
    "Nous allons à présent entrainer notre modèle sur la tâche de classification de graphes et visualiser l'apprentissage via Tensorboard. D'abord, nous devons lancer le serveur tensorboard."
   ]
  },
  {
   "cell_type": "code",
   "execution_count": 9,
   "metadata": {
    "colab": {
     "base_uri": "https://localhost:8080/",
     "height": 34
    },
    "colab_type": "code",
    "id": "IS1dPinuyPCy",
    "outputId": "c5997c3c-1c81-48e1-8f94-fe1386163565"
   },
   "outputs": [],
   "source": [
    "get_ipython().system_raw(\n",
    "    'tensorboard --logdir {} --port 6006 &'\n",
    "    .format(\"./log\")\n",
    ")"
   ]
  },
  {
   "cell_type": "markdown",
   "metadata": {
    "colab_type": "text",
    "id": "OUfdqmUI-HtW"
   },
   "source": [
    "Notre apprentissage concerne le corpus IMDB-BINARY et la classification d'ego-networks en deux genres de film: Action ou Romance. Nous démarrons donc l'apprentissage. Après les premières itérations, les courbes de loss et précision devrait être visible dans tensorboard."
   ]
  },
  {
   "cell_type": "code",
   "execution_count": 33,
   "metadata": {
    "colab": {
     "base_uri": "https://localhost:8080/",
     "height": 384
    },
    "colab_type": "code",
    "id": "wf4-g8wT-qsj",
    "outputId": "740acdfb-e461-4cba-a1db-a6cd52ad7c04"
   },
   "outputs": [
    {
     "name": "stdout",
     "output_type": "stream",
     "text": [
      "Itération 0. Loss: 0.8597. Précision test: 0.4400\n",
      "Itération 10. Loss: 0.6345. Précision test: 0.6000\n",
      "Itération 20. Loss: 0.6130. Précision test: 0.6650\n",
      "Itération 30. Loss: 0.5798. Précision test: 0.7050\n",
      "Itération 40. Loss: 0.5834. Précision test: 0.6900\n",
      "Itération 50. Loss: 0.5721. Précision test: 0.6650\n",
      "Itération 60. Loss: 0.5761. Précision test: 0.6650\n",
      "Itération 70. Loss: 0.5659. Précision test: 0.7150\n",
      "Itération 80. Loss: 0.5627. Précision test: 0.7050\n",
      "Itération 90. Loss: 0.5440. Précision test: 0.7000\n",
      "Itération 100. Loss: 0.5573. Précision test: 0.7150\n",
      "Itération 110. Loss: 0.5602. Précision test: 0.7000\n",
      "Itération 120. Loss: 0.5540. Précision test: 0.6850\n",
      "Itération 130. Loss: 0.5443. Précision test: 0.7050\n",
      "Itération 140. Loss: 0.5418. Précision test: 0.7000\n",
      "Itération 150. Loss: 0.5566. Précision test: 0.7200\n",
      "Itération 160. Loss: 0.5447. Précision test: 0.7150\n",
      "Itération 170. Loss: 0.5436. Précision test: 0.7150\n",
      "Itération 180. Loss: 0.5474. Précision test: 0.7100\n",
      "Itération 190. Loss: 0.5445. Précision test: 0.7100\n"
     ]
    }
   ],
   "source": [
    "writer = SummaryWriter(\"./log/\" + datetime.now().strftime(\"%Y%m%d-%H%M%S\"))\n",
    "\n",
    "dataset = TUDataset(root='/tmp/IMDB-BINARY', name='IMDB-BINARY')\n",
    "dataset = dataset.shuffle()\n",
    "task = 'graph'\n",
    "\n",
    "model = train(dataset, task, writer)"
   ]
  },
  {
   "cell_type": "markdown",
   "metadata": {},
   "source": [
    "## Classification de noeuds\n"
   ]
  },
  {
   "cell_type": "markdown",
   "metadata": {
    "colab_type": "text",
    "id": "zMeWZW8-_Eg8"
   },
   "source": [
    "À présent nous changeons l'application pour une classification de noeuds via le corpus CORA. Pour rappel, chaque noeud est une publication associée à un thème spécifique et les arcs représentent les citations. La tâche est de prédire le thème associé à un document."
   ]
  },
  {
   "cell_type": "code",
   "execution_count": 46,
   "metadata": {
    "colab": {
     "base_uri": "https://localhost:8080/",
     "height": 1000
    },
    "colab_type": "code",
    "id": "2pREw2UQuBH4",
    "outputId": "7bf4ec6d-7654-4a0c-dbc8-8d7f798aa716"
   },
   "outputs": [
    {
     "name": "stdout",
     "output_type": "stream",
     "text": [
      "Itération 0. Loss: 1.9592. Précision test: 0.0640\n",
      "Itération 10. Loss: 1.9320. Précision test: 0.1610\n",
      "Itération 20. Loss: 1.8556. Précision test: 0.2690\n",
      "Itération 30. Loss: 1.6984. Précision test: 0.3140\n",
      "Itération 40. Loss: 1.4151. Précision test: 0.4080\n",
      "Itération 50. Loss: 1.1248. Précision test: 0.6430\n",
      "Itération 60. Loss: 0.8839. Précision test: 0.6800\n",
      "Itération 70. Loss: 0.7144. Précision test: 0.7320\n",
      "Itération 80. Loss: 0.5055. Précision test: 0.7290\n",
      "Itération 90. Loss: 0.3617. Précision test: 0.7310\n",
      "Itération 100. Loss: 0.2658. Précision test: 0.7620\n",
      "Itération 110. Loss: 0.2104. Précision test: 0.7490\n",
      "Itération 120. Loss: 0.1476. Précision test: 0.7510\n",
      "Itération 130. Loss: 0.0937. Précision test: 0.7640\n",
      "Itération 140. Loss: 0.0908. Précision test: 0.7680\n",
      "Itération 150. Loss: 0.0818. Précision test: 0.7530\n",
      "Itération 160. Loss: 0.0868. Précision test: 0.7550\n",
      "Itération 170. Loss: 0.0640. Précision test: 0.7590\n",
      "Itération 180. Loss: 0.0666. Précision test: 0.7580\n",
      "Itération 190. Loss: 0.0473. Précision test: 0.7600\n"
     ]
    }
   ],
   "source": [
    "writer = SummaryWriter(\"./log/\" + datetime.now().strftime(\"%Y%m%d-%H%M%S\"))\n",
    "\n",
    "dataset = Planetoid(root='/tmp/cora', name='cora')\n",
    "task = 'node'\n",
    "\n",
    "model = train(dataset, task, writer)"
   ]
  },
  {
   "cell_type": "markdown",
   "metadata": {
    "colab_type": "text",
    "id": "b5xf-UrHD7rp"
   },
   "source": [
    "# 5. Un peu d'analyse"
   ]
  },
  {
   "cell_type": "markdown",
   "metadata": {
    "colab_type": "text",
    "id": "2cESIeZB_Nqf"
   },
   "source": [
    "Tout comme de nombreuses architectures neuronales profondes, les différentes couches des GNNs offrent d'intéressantes réductions de dimensions de l'information initiale. Par exemple, dans le cas de la classification de noeuds, nous obtenons pour chaque noeud une représentation de dimension inférieure. Nous pouvons donc utiliser différentes méthode de visualisation (comme T-SNE) pour en apprendre d'avantage sur ces représentations intermédiaires. Ici, nous nous intéressons à la dernière couche convolutive du GNN.    \n",
    "\n",
    "Un point = un noeud     \n",
    "Un thème = un thème (classe / label)"
   ]
  },
  {
   "cell_type": "code",
   "execution_count": 50,
   "metadata": {
    "colab": {
     "base_uri": "https://localhost:8080/",
     "height": 282
    },
    "colab_type": "code",
    "id": "i31kOOTKuLd7",
    "outputId": "c9ecbafe-84f3-41f0-86cd-f6ac47fee3c1"
   },
   "outputs": [
    {
     "data": {
      "text/plain": [
       "<matplotlib.collections.PathCollection at 0x7f2ceb302b20>"
      ]
     },
     "execution_count": 50,
     "metadata": {},
     "output_type": "execute_result"
    },
    {
     "data": {
      "image/png": "[encoded data removed]",
      "text/plain": [
       "<Figure size 432x288 with 1 Axes>"
      ]
     },
     "metadata": {
      "needs_background": "light"
     },
     "output_type": "display_data"
    }
   ],
   "source": [
    "color_list = [\"red\", \"orange\", \"green\", \"blue\", \"purple\", \"brown\", \"black\"]\n",
    "\n",
    "loader_here = DataLoader(dataset, batch_size=64, shuffle=True)\n",
    "embs = []\n",
    "colors = []\n",
    "for batch in loader_here:\n",
    "    emb, pred = model(batch)\n",
    "    embs.append(emb)\n",
    "    colors += [color_list[y] for y in batch.y]\n",
    "embs = torch.cat(embs, dim=0)\n",
    "\n",
    "xs, ys = zip(*TSNE().fit_transform(embs.detach().numpy()))\n",
    "plt.scatter(xs, ys, color=colors)"
   ]
  },
  {
   "cell_type": "markdown",
   "metadata": {},
   "source": [
    "Nous pouvons voir que les noeuds ayant un label similaire se retrouvent assez proche dans notre espace latent. C'est une bonne indication de la qualité de notre représentation DANS LE CAS d'une classification par thème. Ce n'est qu'une indication, car la T-SNE, comme tout méthode de réduction, compresse l'information."
   ]
  }
 ],
 "metadata": {
  "accelerator": "GPU",
  "colab": {
   "collapsed_sections": [],
   "name": "Graph Neural Networks",
   "provenance": []
  },
  "kernelspec": {
   "display_name": "Python 3",
   "language": "python",
   "name": "python3"
  },
  "language_info": {
   "codemirror_mode": {
    "name": "ipython",
    "version": 3
   },
   "file_extension": ".py",
   "mimetype": "text/x-python",
   "name": "python",
   "nbconvert_exporter": "python",
   "pygments_lexer": "ipython3",
   "version": "3.8.5"
  }
 },
 "nbformat": 4,
 "nbformat_minor": 1
}
